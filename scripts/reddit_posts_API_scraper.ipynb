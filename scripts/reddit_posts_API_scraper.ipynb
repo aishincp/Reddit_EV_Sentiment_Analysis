{
 "cells": [
  {
   "cell_type": "code",
   "execution_count": 18,
   "id": "14cd2e42-3e49-4050-a674-0bd6fcd0a6fe",
   "metadata": {},
   "outputs": [],
   "source": [
    "import praw\n",
    "import pandas as pd\n",
    "from datetime import datetime"
   ]
  },
  {
   "cell_type": "markdown",
   "id": "0b87780b-667b-4195-9bfb-47f5b37c751b",
   "metadata": {},
   "source": [
    "### Step 1: Authenticate with Reddit API"
   ]
  },
  {
   "cell_type": "code",
   "execution_count": 19,
   "id": "43d7802c-3d99-434f-b396-0fda583aa89e",
   "metadata": {},
   "outputs": [],
   "source": [
    "reddit = praw.Reddit(\n",
    "    client_id=\"zLgz9UoC_pz3tPlUcyglxQ\",\n",
    "    client_secret=\"qxANRXiuTm0JSPnRZwSbf2g3OuFyvA\",\n",
    "    #user_agent=\"EVSentimentApp by /u/Ashamed-Scarcity4703\",\n",
    "    username = \"Ashamed-Scarcity4703\",\n",
    "    password = \"Sent!ment-Analys1s$2024\",\n",
    "    user_agent = \"EVSentimentApp by /u/Ashamed-Scarcity4703\"\n",
    ")"
   ]
  },
  {
   "cell_type": "code",
   "execution_count": 20,
   "id": "8a2383f1-99ee-4784-8fbd-a46ffb3f2901",
   "metadata": {},
   "outputs": [
    {
     "name": "stdout",
     "output_type": "stream",
     "text": [
      "Audi Went To China To Build Cars. China Rebuilt Audi Instead\n",
      "What can we actually do with EV batteries once they drop below 80%? Any second-life use worth it?\n",
      "General Questions and Purchasing Advice Thread — Week of June 02, 2025\n",
      "EV Batteries Got 20% Cheaper Last Year\n",
      "Thoughts on Automakers having control over your vehicle?\n"
     ]
    }
   ],
   "source": [
    "for post in reddit.subreddit(\"electricvehicles\").new(limit=5):\n",
    "    print(post.title)\n"
   ]
  },
  {
   "cell_type": "code",
   "execution_count": 21,
   "id": "9231fa7f-616c-4735-82b8-33146c551bd5",
   "metadata": {},
   "outputs": [],
   "source": [
    "# Subreddits and keywords\n",
    "subreddits = [\"electricvehicles\", \"mercedes_benz\", \"teslamotors\", \"bmw\", \"Volkswagen\", \"byd\"]\n",
    "\n",
    "# List to store posts\n",
    "posts_data = []"
   ]
  },
  {
   "cell_type": "code",
   "execution_count": 22,
   "id": "6a4c343d-67c8-432c-916a-9957e4bc3eb1",
   "metadata": {},
   "outputs": [
    {
     "name": "stdout",
     "output_type": "stream",
     "text": [
      "Fetching posts from r/electricvehicles...\n",
      "Fetching posts from r/mercedes_benz...\n",
      "Fetching posts from r/teslamotors...\n",
      "Fetching posts from r/bmw...\n",
      "Fetching posts from r/Volkswagen...\n",
      "Fetching posts from r/byd...\n"
     ]
    }
   ],
   "source": [
    "# Loop through subreddits\n",
    "for subreddit in subreddits:\n",
    "    print(f\"Fetching posts from r/{subreddit}...\")\n",
    "    for post in reddit.subreddit(subreddit).new(limit=200):\n",
    "        posts_data.append({\n",
    "            \"subreddit\": subreddit,\n",
    "            \"title\": post.title,\n",
    "            \"selftext\": post.selftext,\n",
    "            \"created_utc\": datetime.fromtimestamp(post.created_utc),\n",
    "            \"upvotes\": post.score,\n",
    "            \"num_comments\": post.num_comments,\n",
    "            \"url\": post.url\n",
    "        })"
   ]
  },
  {
   "cell_type": "code",
   "execution_count": 23,
   "id": "5df34b61-68d5-4cde-8773-ff5268e72238",
   "metadata": {},
   "outputs": [
    {
     "name": "stdout",
     "output_type": "stream",
     "text": [
      "Data collected to reddit_EV_posts.csv\n"
     ]
    }
   ],
   "source": [
    "# Saving posts to CSV file\n",
    "df = pd.DataFrame(posts_data)\n",
    "df.to_csv(\"reddit_ev_posts.csv\", index=False)\n",
    "print(\"Data collected to reddit_EV_posts.csv\")"
   ]
  },
  {
   "cell_type": "code",
   "execution_count": null,
   "id": "47c68765-ee89-42d7-951f-a4d49c7598e8",
   "metadata": {},
   "outputs": [],
   "source": []
  }
 ],
 "metadata": {
  "kernelspec": {
   "display_name": "Python 3 (ipykernel)",
   "language": "python",
   "name": "python3"
  },
  "language_info": {
   "codemirror_mode": {
    "name": "ipython",
    "version": 3
   },
   "file_extension": ".py",
   "mimetype": "text/x-python",
   "name": "python",
   "nbconvert_exporter": "python",
   "pygments_lexer": "ipython3",
   "version": "3.11.7"
  }
 },
 "nbformat": 4,
 "nbformat_minor": 5
}
